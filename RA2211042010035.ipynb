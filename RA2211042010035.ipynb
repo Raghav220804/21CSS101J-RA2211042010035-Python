{
  "nbformat": 4,
  "nbformat_minor": 0,
  "metadata": {
    "colab": {
      "provenance": [],
      "authorship_tag": "ABX9TyOt7SqFbFltlGlSZpfNsy7/",
      "include_colab_link": true
    },
    "kernelspec": {
      "name": "python3",
      "display_name": "Python 3"
    },
    "language_info": {
      "name": "python"
    }
  },
  "cells": [
    {
      "cell_type": "markdown",
      "metadata": {
        "id": "view-in-github",
        "colab_type": "text"
      },
      "source": [
        "<a href=\"https://colab.research.google.com/github/Raghav220804/21CSS101J-RA2211042010035-Python/blob/main/RA2211042010035.ipynb\" target=\"_parent\"><img src=\"https://colab.research.google.com/assets/colab-badge.svg\" alt=\"Open In Colab\"/></a>"
      ]
    },
    {
      "cell_type": "code",
      "execution_count": 10,
      "metadata": {
        "colab": {
          "base_uri": "https://localhost:8080/"
        },
        "id": "I5Pm46wpIkRN",
        "outputId": "ffcdb886-e7cc-43de-efac-516c4e09da98"
      },
      "outputs": [
        {
          "output_type": "stream",
          "name": "stdout",
          "text": [
            "Hello World!\n"
          ]
        }
      ],
      "source": [
        "print (\"Hello World!\")"
      ]
    },
    {
      "cell_type": "code",
      "source": [
        "import pandas as pd\n",
        "data = {\"calories\": [430,380,390,320,234],\n",
        "        \"duration\": [50,45,40,60,43]\n",
        "        }\n",
        "df = pd.DataFrame(data,index = [\"day1\",\"day2\",\"day3\",\"day4\",\"day5\"]) \n",
        "print(df)       "
      ],
      "metadata": {
        "id": "FZwSyISIJpEw",
        "outputId": "5be927a4-2ec1-4a47-d05f-8c10697a680c",
        "colab": {
          "base_uri": "https://localhost:8080/"
        }
      },
      "execution_count": 11,
      "outputs": [
        {
          "output_type": "stream",
          "name": "stdout",
          "text": [
            "      calories  duration\n",
            "day1       430        50\n",
            "day2       380        45\n",
            "day3       390        40\n",
            "day4       320        60\n",
            "day5       234        43\n"
          ]
        }
      ]
    },
    {
      "cell_type": "code",
      "source": [
        "# import pandas as pd import pandas as pd\n",
        "# list of strings\n",
        "lst = ['Geeks', 'For', 'Geeks', 'is',\n",
        "'portal', 'for', 'Geeks']\n",
        "# Calling DataFrame constructor on list\n",
        "df = pd.DataFrame(lst)\n",
        "\n",
        "print(lst)\n",
        "print(df)\n"
      ],
      "metadata": {
        "id": "sEdZgKnhLdU_",
        "outputId": "d45739e0-ae54-4051-a19a-16d00f4e6262",
        "colab": {
          "base_uri": "https://localhost:8080/"
        }
      },
      "execution_count": 28,
      "outputs": [
        {
          "output_type": "stream",
          "name": "stdout",
          "text": [
            "['Geeks', 'For', 'Geeks', 'is', 'portal', 'for', 'Geeks']\n",
            "        0\n",
            "0   Geeks\n",
            "1     For\n",
            "2   Geeks\n",
            "3      is\n",
            "4  portal\n",
            "5     for\n",
            "6   Geeks\n"
          ]
        }
      ]
    },
    {
      "cell_type": "code",
      "source": [
        "import pandas as pd\n",
        "data = {\"calories\": [430,380,390,320,234],\n",
        "        \"duration\": [50,45,40,60,43]\n",
        "        }\n",
        "df = pd.DataFrame(data,index = [\"day1\",\"day2\",\"day3\",\"day4\",\"day5\"]) \n",
        "print(df)\n",
        "print(df.loc[\"day3\"],df.loc[\"day2\"])"
      ],
      "metadata": {
        "id": "wJtMXDMkK4W7",
        "outputId": "c7e1d34c-4e84-44ec-8763-4add52dc4030",
        "colab": {
          "base_uri": "https://localhost:8080/"
        }
      },
      "execution_count": 24,
      "outputs": [
        {
          "output_type": "stream",
          "name": "stdout",
          "text": [
            "      calories  duration\n",
            "day1       430        50\n",
            "day2       380        45\n",
            "day3       390        40\n",
            "day4       320        60\n",
            "day5       234        43\n",
            "calories    390\n",
            "duration     40\n",
            "Name: day3, dtype: int64 calories    380\n",
            "duration     45\n",
            "Name: day2, dtype: int64\n"
          ]
        }
      ]
    },
    {
      "cell_type": "code",
      "source": [
        "if 5 > 2:\n",
        "  print(\"Five is greater than two\")"
      ],
      "metadata": {
        "id": "BRZeSpegLZPB",
        "outputId": "b2348f86-8950-42eb-8304-d8d672c05f41",
        "colab": {
          "base_uri": "https://localhost:8080/"
        }
      },
      "execution_count": 12,
      "outputs": [
        {
          "output_type": "stream",
          "name": "stdout",
          "text": [
            "Five is greater than two\n"
          ]
        }
      ]
    },
    {
      "cell_type": "code",
      "source": [
        "x = 5\n",
        "y = \"John\"\n",
        "print(x)\n",
        "print(y)"
      ],
      "metadata": {
        "id": "y4fjBUCBWjaf",
        "outputId": "96bd57d3-22c8-4161-9582-49d65dda7f40",
        "colab": {
          "base_uri": "https://localhost:8080/"
        }
      },
      "execution_count": 13,
      "outputs": [
        {
          "output_type": "stream",
          "name": "stdout",
          "text": [
            "5\n",
            "John\n"
          ]
        }
      ]
    },
    {
      "cell_type": "code",
      "source": [
        "x = str(3)   \n",
        "y = int(3)    \n",
        "z = float(3)"
      ],
      "metadata": {
        "id": "IUKvpGboWkve"
      },
      "execution_count": 14,
      "outputs": []
    },
    {
      "cell_type": "code",
      "source": [
        "x = 5\n",
        "y = \"John\"\n",
        "print(type(x))\n",
        "print(type(y))"
      ],
      "metadata": {
        "colab": {
          "base_uri": "https://localhost:8080/"
        },
        "id": "jMPGSAd-YKgX",
        "outputId": "fa43c0fe-ec6d-460b-caf2-87a019c396a4"
      },
      "execution_count": 15,
      "outputs": [
        {
          "output_type": "stream",
          "name": "stdout",
          "text": [
            "<class 'int'>\n",
            "<class 'str'>\n"
          ]
        }
      ]
    },
    {
      "cell_type": "code",
      "source": [
        "a = 4\n",
        "A = \"Sally\"\n",
        "#A will not overwrite a"
      ],
      "metadata": {
        "id": "ewyC6-ugYX16"
      },
      "execution_count": 16,
      "outputs": []
    }
  ]
}